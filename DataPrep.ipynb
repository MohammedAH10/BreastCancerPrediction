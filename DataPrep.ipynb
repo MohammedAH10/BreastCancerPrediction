{
 "cells": [
  {
   "cell_type": "code",
   "execution_count": 1,
   "id": "1e173c19",
   "metadata": {},
   "outputs": [],
   "source": [
    "import os\n",
    "import cv2\n",
    "import numpy as np\n",
    "import matplotlib.pyplot as plt\n",
    "from tqdm import tqdm\n",
    "from collections import Counter"
   ]
  },
  {
   "cell_type": "code",
   "execution_count": 2,
   "id": "965ff0c7",
   "metadata": {},
   "outputs": [],
   "source": [
    "# ===== Configuration =====\n",
    "TARGET_SIZE = (224, 224)  # Standard size for CNN models\n",
    "BASE_DIR = 'BreastCancerData'\n",
    "ONLINE_DIR = os.path.join(BASE_DIR, 'OnlineData')\n",
    "OFFLINE_DIR = os.path.join(BASE_DIR, 'OfflineData')\n",
    "OUTPUT_DIR = 'preprocessed_data'\n",
    "os.makedirs(OUTPUT_DIR, exist_ok=True)"
   ]
  },
  {
   "cell_type": "code",
   "execution_count": 3,
   "id": "7250d047",
   "metadata": {},
   "outputs": [],
   "source": [
    "def load_images(directory, class_mapping):\n",
    "    images, labels, sources = [], [], []\n",
    "    for class_name, label in class_mapping.items():\n",
    "        class_dir = os.path.join(directory, class_name)\n",
    "        if not os.path.exists(class_dir):\n",
    "            continue\n",
    "            \n",
    "        print(f\"Processing {class_name} in {directory.split('/')[-1]}...\")\n",
    "        for file in tqdm(os.listdir(class_dir)):\n",
    "            if not file.lower().endswith(('.png', '.jpg', '.jpeg')):\n",
    "                continue\n",
    "                \n",
    "            img_path = os.path.join(class_dir, file)\n",
    "            img = cv2.imread(img_path)\n",
    "            if img is None:\n",
    "                continue\n",
    "                \n",
    "            # Resize and convert to grayscale\n",
    "            gray = cv2.cvtColor(img, cv2.COLOR_BGR2GRAY)\n",
    "            resized = cv2.resize(gray, TARGET_SIZE)\n",
    "            normalized = resized / 255.0  # Normalize pixel values\n",
    "            \n",
    "            images.append(normalized)\n",
    "            labels.append(label)\n",
    "            sources.append(directory.split('/')[-1])\n",
    "            \n",
    "    return np.array(images), np.array(labels), np.array(sources)\n"
   ]
  },
  {
   "cell_type": "code",
   "execution_count": 4,
   "id": "63fe7585",
   "metadata": {},
   "outputs": [],
   "source": [
    "online_mapping = {'malignant': 1, 'benign': 0, 'normal': 0}\n",
    "offline_mapping = {'malignant': 1, 'benign': 0}"
   ]
  },
  {
   "cell_type": "code",
   "execution_count": 6,
   "id": "a47ce2ab",
   "metadata": {},
   "outputs": [
    {
     "name": "stdout",
     "output_type": "stream",
     "text": [
      "Processing malignant in OfflineData...\n"
     ]
    },
    {
     "name": "stderr",
     "output_type": "stream",
     "text": [
      "  7%|▋         | 18/270 [00:00<00:03, 81.90it/s]"
     ]
    },
    {
     "name": "stderr",
     "output_type": "stream",
     "text": [
      "100%|██████████| 270/270 [00:07<00:00, 38.02it/s]\n"
     ]
    },
    {
     "name": "stdout",
     "output_type": "stream",
     "text": [
      "Processing benign in OfflineData...\n"
     ]
    },
    {
     "name": "stderr",
     "output_type": "stream",
     "text": [
      "100%|██████████| 287/287 [00:05<00:00, 48.97it/s]\n"
     ]
    },
    {
     "name": "stdout",
     "output_type": "stream",
     "text": [
      "Processing malignant in OnlineData...\n"
     ]
    },
    {
     "name": "stderr",
     "output_type": "stream",
     "text": [
      "100%|██████████| 210/210 [00:11<00:00, 18.23it/s]\n"
     ]
    },
    {
     "name": "stdout",
     "output_type": "stream",
     "text": [
      "Processing benign in OnlineData...\n"
     ]
    },
    {
     "name": "stderr",
     "output_type": "stream",
     "text": [
      "100%|██████████| 288/288 [00:20<00:00, 14.06it/s]\n"
     ]
    },
    {
     "name": "stdout",
     "output_type": "stream",
     "text": [
      "Processing normal in OnlineData...\n"
     ]
    },
    {
     "name": "stderr",
     "output_type": "stream",
     "text": [
      "100%|██████████| 133/133 [00:09<00:00, 14.22it/s]\n"
     ]
    }
   ],
   "source": [
    "# Load all data\n",
    "X_offline, y_offline, s_offline = load_images(OFFLINE_DIR, offline_mapping)\n",
    "X_online, y_online, s_online = load_images(ONLINE_DIR, online_mapping)"
   ]
  },
  {
   "cell_type": "code",
   "execution_count": 7,
   "id": "891afb32",
   "metadata": {},
   "outputs": [],
   "source": [
    "# Combine datasets\n",
    "X_combined = np.concatenate((X_online, X_offline))\n",
    "y_combined = np.concatenate((y_online, y_offline))\n",
    "sources = np.concatenate((s_online, s_offline))"
   ]
  },
  {
   "cell_type": "code",
   "execution_count": 12,
   "id": "bdbced3c",
   "metadata": {},
   "outputs": [
    {
     "name": "stdout",
     "output_type": "stream",
     "text": [
      "\n",
      "Data Summary:\n",
      "- Online samples: 631 (Malignant: 210 | Benign: 421)\n",
      "- Offline samples: 557 (Malignant: 270 | Benign: 287)\n",
      "- Combined samples: 1188 (Malignant: 480 | Benign: 708)\n"
     ]
    }
   ],
   "source": [
    "# ===== 1.2 Data Validation =====\n",
    "print(\"\\nData Summary:\")\n",
    "print(f\"- Online samples: {len(X_online)} (Malignant: {sum(y_online==1)} | Benign: {sum(y_online==0)})\")\n",
    "print(f\"- Offline samples: {len(X_offline)} (Malignant: {sum(y_offline==1)} | Benign: {sum(y_offline==0)})\")\n",
    "print(f\"- Combined samples: {len(X_combined)} (Malignant: {sum(y_combined==1)} | Benign: {sum(y_combined==0)})\")"
   ]
  },
  {
   "cell_type": "code",
   "execution_count": 13,
   "id": "ee32f20b",
   "metadata": {},
   "outputs": [],
   "source": [
    "# ===== 1.3 Data Visualization =====\n",
    "def plot_distribution(labels, title, file_name):\n",
    "    class_counts = Counter(labels)\n",
    "    plt.figure(figsize=(10, 5))\n",
    "    plt.bar(['Non-Cancerous (0)', 'Malignant (1)'], \n",
    "            [class_counts[0], class_counts[1]], \n",
    "            color=['skyblue', 'salmon'])\n",
    "    plt.title(f'Class Distribution: {title}\\nTotal Samples: {sum(class_counts.values())}')\n",
    "    plt.ylabel('Count')\n",
    "    plt.savefig(f'plots/{file_name}.png')\n",
    "    plt.close()\n"
   ]
  },
  {
   "cell_type": "code",
   "execution_count": 14,
   "id": "a2f1226c",
   "metadata": {},
   "outputs": [],
   "source": [
    "# Create visualizations\n",
    "os.makedirs('plots', exist_ok=True)\n",
    "plot_distribution(y_online, 'Online Data', 'online_distribution')\n",
    "plot_distribution(y_offline, 'Hospital Data', 'hospital_distribution')\n",
    "plot_distribution(y_combined, 'Combined Data', 'combined_distribution')"
   ]
  },
  {
   "cell_type": "code",
   "execution_count": 15,
   "id": "e32f80da",
   "metadata": {},
   "outputs": [
    {
     "name": "stdout",
     "output_type": "stream",
     "text": [
      "\n",
      "Preprocessing completed. Files saved to 'preprocessed_data' directory\n",
      "Class distributions visualized in 'plots' directory\n"
     ]
    }
   ],
   "source": [
    "# ===== Save Processed Data =====\n",
    "np.savez_compressed(\n",
    "    os.path.join(OUTPUT_DIR, 'preprocessed_images.npz'),\n",
    "    X_online=X_online,\n",
    "    y_online=y_online,\n",
    "    X_offline=X_offline,\n",
    "    y_offline=y_offline,\n",
    "    X_combined=X_combined,\n",
    "    y_combined=y_combined,\n",
    "    sources=sources\n",
    ")\n",
    "\n",
    "print(\"\\nPreprocessing completed. Files saved to 'preprocessed_data' directory\")\n",
    "print(\"Class distributions visualized in 'plots' directory\")"
   ]
  },
  {
   "cell_type": "code",
   "execution_count": null,
   "id": "1f12461a",
   "metadata": {},
   "outputs": [],
   "source": []
  }
 ],
 "metadata": {
  "kernelspec": {
   "display_name": "deeplearning_env",
   "language": "python",
   "name": "python3"
  },
  "language_info": {
   "codemirror_mode": {
    "name": "ipython",
    "version": 3
   },
   "file_extension": ".py",
   "mimetype": "text/x-python",
   "name": "python",
   "nbconvert_exporter": "python",
   "pygments_lexer": "ipython3",
   "version": "3.11.5"
  }
 },
 "nbformat": 4,
 "nbformat_minor": 5
}
